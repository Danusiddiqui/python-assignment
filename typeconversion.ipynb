{
 "cells": [
  {
   "cell_type": "code",
   "execution_count": 1,
   "id": "780055bd-82c4-4342-b8e8-74aad9d37062",
   "metadata": {},
   "outputs": [
    {
     "name": "stdin",
     "output_type": "stream",
     "text": [
      "enter an integer 6\n"
     ]
    },
    {
     "name": "stdout",
     "output_type": "stream",
     "text": [
      "6.0\n"
     ]
    }
   ],
   "source": [
    "#1) Convert an integer to a floating-point number.\n",
    "a=int(input(\"enter an integer\"))\n",
    "b=float(a)\n",
    "print(b)"
   ]
  },
  {
   "cell_type": "code",
   "execution_count": 2,
   "id": "098c7bb1-b3f9-446e-aea4-ea9401299548",
   "metadata": {},
   "outputs": [
    {
     "name": "stdin",
     "output_type": "stream",
     "text": [
      "enter a floating number 5.78\n"
     ]
    },
    {
     "name": "stdout",
     "output_type": "stream",
     "text": [
      "5\n"
     ]
    }
   ],
   "source": [
    "#2) Convert a float to a integer.\n",
    "c=float(input(\"enter a floating number\"))\n",
    "d=int(c)\n",
    "print(d)"
   ]
  },
  {
   "cell_type": "code",
   "execution_count": 3,
   "id": "4287a47a-4040-491c-8ada-7c5ebc4a2df3",
   "metadata": {},
   "outputs": [
    {
     "name": "stdin",
     "output_type": "stream",
     "text": [
      "enter an integer number 45\n"
     ]
    },
    {
     "name": "stdout",
     "output_type": "stream",
     "text": [
      "string is  45\n",
      "<class 'str'>\n"
     ]
    }
   ],
   "source": [
    "#3) Convert a integer to a string.\n",
    "e=int(input(\"enter an integer number\"))\n",
    "f=str(e)\n",
    "print(\"string is \" , f)\n",
    "print(type(f))"
   ]
  },
  {
   "cell_type": "code",
   "execution_count": 4,
   "id": "e21e2d20-263d-4b0f-a0d1-2430b2bd28ab",
   "metadata": {},
   "outputs": [
    {
     "name": "stdout",
     "output_type": "stream",
     "text": [
      "(1, 2, 3, 'ajay', (5+7j), True, 'a')\n",
      "<class 'tuple'>\n"
     ]
    }
   ],
   "source": [
    "#4) Convert a list to a tuple.\n",
    "list1 = [1,2,3,\"ajay\" , 5+7j , True , \"a\"]\n",
    "tuple1= tuple(list1)\n",
    "print(tuple1)\n",
    "print(type(tuple1))"
   ]
  },
  {
   "cell_type": "code",
   "execution_count": 5,
   "id": "25571908-6b05-48aa-b0cf-7f364eb848ad",
   "metadata": {},
   "outputs": [
    {
     "name": "stdout",
     "output_type": "stream",
     "text": [
      "[1, 7, 8, 3, 'vijay', (5+7j), True, 'a', 54]\n",
      "<class 'list'>\n"
     ]
    }
   ],
   "source": [
    "#5) Convert a tuple to a list.\n",
    "tuple2 = (1,7,8,3,\"vijay\" , 5+7j , True , \"a\", 54)\n",
    "list2= list(tuple2)\n",
    "print(list2)\n",
    "print(type(list2))"
   ]
  },
  {
   "cell_type": "code",
   "execution_count": 6,
   "id": "f50cdfcb-4b77-423a-84f8-dc166ec971b9",
   "metadata": {},
   "outputs": [
    {
     "name": "stdin",
     "output_type": "stream",
     "text": [
      "enter an int decimal no 8\n"
     ]
    },
    {
     "name": "stdout",
     "output_type": "stream",
     "text": [
      "0b1000\n"
     ]
    }
   ],
   "source": [
    "#6)Convert a decimal number to binary.\n",
    "g=int(input(\"enter an int decimal no\"))\n",
    "h=bin(g)\n",
    "print(h)"
   ]
  },
  {
   "cell_type": "code",
   "execution_count": 7,
   "id": "ae63660c-1335-4670-aa57-7619fbbec64e",
   "metadata": {},
   "outputs": [
    {
     "name": "stdin",
     "output_type": "stream",
     "text": [
      " enter non zero no 8\n"
     ]
    },
    {
     "name": "stdout",
     "output_type": "stream",
     "text": [
      "True\n",
      "<class 'bool'>\n"
     ]
    }
   ],
   "source": [
    "#7)Convert a non-zero number to boolean.\n",
    "i=int(input(\" enter non zero no\"))\n",
    "j=bool(i)\n",
    "print(j)\n",
    "print(type(j))"
   ]
  },
  {
   "cell_type": "code",
   "execution_count": null,
   "id": "fd991170-00c1-4cd3-b400-43ff77e8a096",
   "metadata": {},
   "outputs": [],
   "source": []
  }
 ],
 "metadata": {
  "kernelspec": {
   "display_name": "Python 3 (ipykernel)",
   "language": "python",
   "name": "python3"
  },
  "language_info": {
   "codemirror_mode": {
    "name": "ipython",
    "version": 3
   },
   "file_extension": ".py",
   "mimetype": "text/x-python",
   "name": "python",
   "nbconvert_exporter": "python",
   "pygments_lexer": "ipython3",
   "version": "3.10.8"
  }
 },
 "nbformat": 4,
 "nbformat_minor": 5
}
