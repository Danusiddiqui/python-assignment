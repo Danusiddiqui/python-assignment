{
 "cells": [
  {
   "cell_type": "code",
   "execution_count": 1,
   "id": "8c555a6a-ebe6-4a42-bbbf-84631443824b",
   "metadata": {},
   "outputs": [
    {
     "name": "stdout",
     "output_type": "stream",
     "text": [
      "1\n",
      "2\n",
      "3\n",
      "4\n",
      "5\n"
     ]
    }
   ],
   "source": [
    "#Print numbers from 1 to 5 using a while loop.\n",
    "n=5\n",
    "i=1\n",
    "while i<=n :\n",
    "    print(i)\n",
    "    i=i+1\n"
   ]
  },
  {
   "cell_type": "code",
   "execution_count": 2,
   "id": "21e40f7e-961f-44bb-a4c5-9619d1cb19ab",
   "metadata": {},
   "outputs": [
    {
     "name": "stdout",
     "output_type": "stream",
     "text": [
      "sum of numbers 1 to 10  55\n"
     ]
    }
   ],
   "source": [
    " #Calclate the sum of numbers from 1 to 10 using a while loop.  \n",
    "n=10\n",
    "i=1\n",
    "sumofnum=0\n",
    "while i<=n :\n",
    "   sumofnum=sumofnum+i\n",
    "   i=i+1\n",
    "print(\"sum of numbers 1 to 10 \" ,sumofnum)"
   ]
  },
  {
   "cell_type": "code",
   "execution_count": 3,
   "id": "d89d2916-25ca-4aad-b5d5-f25032bfb5f7",
   "metadata": {},
   "outputs": [
    {
     "name": "stdin",
     "output_type": "stream",
     "text": [
      "Enter a number:  5\n"
     ]
    },
    {
     "name": "stdout",
     "output_type": "stream",
     "text": [
      "120\n"
     ]
    }
   ],
   "source": [
    "#Calclate the factorial of a number using a for loop.\n",
    "n = int(input(\"Enter a number: \"))\n",
    "factorial=1\n",
    "for i in range(1,n + 1):\n",
    "       factorial = factorial*i\n",
    "print(factorial)"
   ]
  },
  {
   "cell_type": "code",
   "execution_count": 4,
   "id": "24be6b41-f9e3-4cb9-a859-6f5ba02f0cd4",
   "metadata": {},
   "outputs": [
    {
     "name": "stdin",
     "output_type": "stream",
     "text": [
      "enter word DAniya\n"
     ]
    },
    {
     "name": "stdout",
     "output_type": "stream",
     "text": [
      "no of vowels are 3\n"
     ]
    }
   ],
   "source": [
    "#Count the number of vowel in a string using a for loop.\n",
    "s=input(\"enter word\")\n",
    "c=0\n",
    "d=0\n",
    "for char in s:\n",
    " if (char==\"a\" or char==\"e\"or char==\"i\" or char==\"0\" or char==\"u\" or char== \"A\" or char==\"E\" or char== \"I\" or char==\"O\" or char==\"U\"):\n",
    "      c=c+1\n",
    "d=c\n",
    "print(\"no of vowels are\" , d) "
   ]
  },
  {
   "cell_type": "code",
   "execution_count": 5,
   "id": "162a2bac-7e7a-4e3e-89fa-a34c926707f2",
   "metadata": {},
   "outputs": [
    {
     "name": "stdin",
     "output_type": "stream",
     "text": [
      "enter no 5\n"
     ]
    },
    {
     "name": "stdout",
     "output_type": "stream",
     "text": [
      "*\n",
      "**\n",
      "***\n",
      "****\n",
      "*****\n"
     ]
    }
   ],
   "source": [
    "# Print a pattern using nested loop.\n",
    "n=int(input(\"enter no\"))\n",
    "i=1\n",
    "while i<=n:\n",
    "  j=1\n",
    "  while j<=i:\n",
    "         print(\"*\" , end=\"\")\n",
    "         j=j+1\n",
    "  print()\n",
    "  i=i+1"
   ]
  },
  {
   "cell_type": "code",
   "execution_count": 6,
   "id": "4bb22d84-5b80-40fc-a33f-ed4def6b04a5",
   "metadata": {},
   "outputs": [
    {
     "name": "stdin",
     "output_type": "stream",
     "text": [
      "enter no  5\n"
     ]
    },
    {
     "name": "stdout",
     "output_type": "stream",
     "text": [
      "1 x 1 = 1\n",
      "1 x 2 = 2\n",
      "1 x 3 = 3\n",
      "1 x 4 = 4\n",
      "1 x 5 = 5\n",
      "1 x 6 = 6\n",
      "1 x 7 = 7\n",
      "1 x 8 = 8\n",
      "1 x 9 = 9\n",
      "1 x 10 = 10\n",
      "\n",
      "2 x 1 = 2\n",
      "2 x 2 = 4\n",
      "2 x 3 = 6\n",
      "2 x 4 = 8\n",
      "2 x 5 = 10\n",
      "2 x 6 = 12\n",
      "2 x 7 = 14\n",
      "2 x 8 = 16\n",
      "2 x 9 = 18\n",
      "2 x 10 = 20\n",
      "\n",
      "3 x 1 = 3\n",
      "3 x 2 = 6\n",
      "3 x 3 = 9\n",
      "3 x 4 = 12\n",
      "3 x 5 = 15\n",
      "3 x 6 = 18\n",
      "3 x 7 = 21\n",
      "3 x 8 = 24\n",
      "3 x 9 = 27\n",
      "3 x 10 = 30\n",
      "\n",
      "4 x 1 = 4\n",
      "4 x 2 = 8\n",
      "4 x 3 = 12\n",
      "4 x 4 = 16\n",
      "4 x 5 = 20\n",
      "4 x 6 = 24\n",
      "4 x 7 = 28\n",
      "4 x 8 = 32\n",
      "4 x 9 = 36\n",
      "4 x 10 = 40\n",
      "\n",
      "5 x 1 = 5\n",
      "5 x 2 = 10\n",
      "5 x 3 = 15\n",
      "5 x 4 = 20\n",
      "5 x 5 = 25\n",
      "5 x 6 = 30\n",
      "5 x 7 = 35\n",
      "5 x 8 = 40\n",
      "5 x 9 = 45\n",
      "5 x 10 = 50\n",
      "\n"
     ]
    }
   ],
   "source": [
    "#Generate a multiplication table using nested loop. \n",
    "row=int(input(\"enter no \"))\n",
    "for i in range(1,row+1):\n",
    "     for j in range(1,11):\n",
    "      result = i*j\n",
    "      print(f\"{i} x {j} = {result}\\n\", end=\"\") \n",
    "     print ()"
   ]
  },
  {
   "cell_type": "code",
   "execution_count": null,
   "id": "16b5a92c-b61e-4ce0-8019-ed9efb5d1860",
   "metadata": {},
   "outputs": [],
   "source": []
  }
 ],
 "metadata": {
  "kernelspec": {
   "display_name": "Python 3 (ipykernel)",
   "language": "python",
   "name": "python3"
  },
  "language_info": {
   "codemirror_mode": {
    "name": "ipython",
    "version": 3
   },
   "file_extension": ".py",
   "mimetype": "text/x-python",
   "name": "python",
   "nbconvert_exporter": "python",
   "pygments_lexer": "ipython3",
   "version": "3.10.8"
  }
 },
 "nbformat": 4,
 "nbformat_minor": 5
}
