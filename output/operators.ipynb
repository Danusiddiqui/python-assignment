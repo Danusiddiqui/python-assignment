{
 "cells": [
  {
   "cell_type": "code",
   "execution_count": 1,
   "id": "7b4cf2ed-b886-442b-bdac-796abe6a2ca5",
   "metadata": {},
   "outputs": [
    {
     "name": "stdin",
     "output_type": "stream",
     "text": [
      "enter a number a 4\n",
      "enter a number b 3\n"
     ]
    },
    {
     "name": "stdout",
     "output_type": "stream",
     "text": [
      " sum is 7\n",
      " difference is 1\n",
      " product is 12\n",
      " quotient is 1.3333333333333333\n"
     ]
    }
   ],
   "source": [
    "#1) Calculate the sum, difference, product, and quotient of two numbers.\n",
    "a=int(input(\"enter a number a\")) \n",
    "b=int(input(\"enter a number b\"))\n",
    "print(\" sum is\" , a+b )\n",
    "print(\" difference is\" , a-b )\n",
    "print(\" product is\" , a*b )\n",
    "print(\" quotient is\" , a/b )"
   ]
  },
  {
   "cell_type": "code",
   "execution_count": 2,
   "id": "1053e803-7899-4514-98d4-373f879fc2db",
   "metadata": {},
   "outputs": [
    {
     "name": "stdin",
     "output_type": "stream",
     "text": [
      "enter a number 7\n"
     ]
    },
    {
     "name": "stdout",
     "output_type": "stream",
     "text": [
      "assignment =  7\n",
      "addition assignment c+=10 17\n",
      "subtraction assignment c-=10 7\n",
      "multiplication assignment c*=10 70\n",
      "division assignment c/=10 7.0\n"
     ]
    }
   ],
   "source": [
    "#2) Perform various assignment operations on a variable.\n",
    "c =int(input(\"enter a number\"))\n",
    "d=c\n",
    "print(\"assignment = \" , d)\n",
    "c+=10\n",
    "print(\"addition assignment c+=10\" , c) \n",
    "c-=10\n",
    "print(\"subtraction assignment c-=10\",c) \n",
    "c*=10\n",
    "print(\"multiplication assignment c*=10\",c )\n",
    "c/=10\n",
    "print(\"division assignment c/=10\", c) "
   ]
  },
  {
   "cell_type": "code",
   "execution_count": 3,
   "id": "315fff21-47a1-42dc-8a56-543c0e935058",
   "metadata": {},
   "outputs": [
    {
     "name": "stdin",
     "output_type": "stream",
     "text": [
      "enter a number e 23\n",
      "enter a number f 56\n"
     ]
    },
    {
     "name": "stdout",
     "output_type": "stream",
     "text": [
      "e is greater than f False\n",
      "f is greater than e True\n"
     ]
    }
   ],
   "source": [
    "#3) Compare two numbers and print the results.\n",
    "e=int(input(\"enter a number e\"))\n",
    "f=int(input(\"enter a number f\"))\n",
    "print(\"e is greater than f\" ,e>f)\n",
    "print(\"f is greater than e\" , f>e)"
   ]
  },
  {
   "cell_type": "code",
   "execution_count": 5,
   "id": "141db635-ba44-401e-a57f-f5c66ce9176f",
   "metadata": {},
   "outputs": [
    {
     "name": "stdin",
     "output_type": "stream",
     "text": [
      "enter a number g 56\n",
      "enter a number h 50\n"
     ]
    },
    {
     "name": "stdout",
     "output_type": "stream",
     "text": [
      "g >10 and h>15 True\n",
      "g >10 or h > 60 False\n",
      "not g==h True\n"
     ]
    }
   ],
   "source": [
    "#4) Check conditions using logical operators.\n",
    "g=int(input(\"enter a number g\"))\n",
    "h=int(input(\"enter a number h\"))\n",
    "f=g>10 and h>15\n",
    "print(\"g >10 and h>15\",f )\n",
    "k=g>10 and h>60\n",
    "print(\"g >10 or h > 60\", k)\n",
    "print(\"not g==h\",  not g==h)"
   ]
  },
  {
   "cell_type": "code",
   "execution_count": 6,
   "id": "85c2a650-58c2-4792-a7a7-5b8c97f3aec9",
   "metadata": {},
   "outputs": [
    {
     "name": "stdin",
     "output_type": "stream",
     "text": [
      "enter a number i 6\n",
      "enter a number j 8\n"
     ]
    },
    {
     "name": "stdout",
     "output_type": "stream",
     "text": [
      "i is j False\n",
      "i is j True\n"
     ]
    }
   ],
   "source": [
    "#5)Check the identity of variables.\n",
    "i=int(input(\"enter a number i\"))\n",
    "j=int(input(\"enter a number j\"))\n",
    "print(\"i is j\" ,i is j)\n",
    "print(\"i is j\" ,i is not j)"
   ]
  },
  {
   "cell_type": "code",
   "execution_count": null,
   "id": "02a8e831-a0aa-469e-b21a-8d1c30f2b466",
   "metadata": {},
   "outputs": [
    {
     "name": "stdin",
     "output_type": "stream",
     "text": [
      "enter a number x 5\n"
     ]
    }
   ],
   "source": [
    "#6)Perform bitwise operations on any two integers.\n",
    "x=int(input(\"enter a number x\"))\n",
    "y=int(input(\"enter a number y\"))\n",
    "print(\"x & y\" , x&y)\n",
    "print(\"x | y\" , x|y)\n",
    "print(\" ~y\" , ~y)"
   ]
  },
  {
   "cell_type": "code",
   "execution_count": null,
   "id": "dcd52ec3-efa0-4d89-8402-b18cc403cc2d",
   "metadata": {},
   "outputs": [],
   "source": []
  }
 ],
 "metadata": {
  "kernelspec": {
   "display_name": "Python 3 (ipykernel)",
   "language": "python",
   "name": "python3"
  },
  "language_info": {
   "codemirror_mode": {
    "name": "ipython",
    "version": 3
   },
   "file_extension": ".py",
   "mimetype": "text/x-python",
   "name": "python",
   "nbconvert_exporter": "python",
   "pygments_lexer": "ipython3",
   "version": "3.10.8"
  }
 },
 "nbformat": 4,
 "nbformat_minor": 5
}
