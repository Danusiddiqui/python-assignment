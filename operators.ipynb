{
 "cells": [
  {
   "cell_type": "code",
   "execution_count": 1,
   "id": "1ccec7f3-7231-40ab-90d6-13b606fbca57",
   "metadata": {},
   "outputs": [
    {
     "name": "stdin",
     "output_type": "stream",
     "text": [
      "enter a number a 40\n",
      "enter a number b 20\n"
     ]
    },
    {
     "name": "stdout",
     "output_type": "stream",
     "text": [
      " sum is 60\n",
      " difference is 20\n",
      " product is 800\n",
      " quotient is 2.0\n"
     ]
    }
   ],
   "source": [
    "#1) Calculate the sum, difference, product, and quotient of two numbers.\n",
    "a=int(input(\"enter a number a\")) \n",
    "b=int(input(\"enter a number b\"))\n",
    "print(\" sum is\" , a+b )\n",
    "print(\" difference is\" , a-b )\n",
    "print(\" product is\" , a*b )\n",
    "print(\" quotient is\" , a/b )"
   ]
  },
  {
   "cell_type": "code",
   "execution_count": 2,
   "id": "f1a83eee-4b67-4d6d-aa6e-b58f42446ff2",
   "metadata": {},
   "outputs": [
    {
     "name": "stdin",
     "output_type": "stream",
     "text": [
      "enter a number 7\n"
     ]
    },
    {
     "name": "stdout",
     "output_type": "stream",
     "text": [
      "assignment =  7\n",
      "addition assignment c+=10 17\n",
      "subtraction assignment c-=10 7\n",
      "multiplication assignment c*=10 70\n",
      "division assignment c/=10 7.0\n"
     ]
    }
   ],
   "source": [
    "#2) Perform various assignment operations on a variable.\n",
    "c =int(input(\"enter a number\"))\n",
    "d=c\n",
    "print(\"assignment = \" , d)\n",
    "c+=10\n",
    "print(\"addition assignment c+=10\" , c) \n",
    "c-=10\n",
    "print(\"subtraction assignment c-=10\",c) \n",
    "c*=10\n",
    "print(\"multiplication assignment c*=10\",c )\n",
    "c/=10\n",
    "print(\"division assignment c/=10\", c) "
   ]
  },
  {
   "cell_type": "code",
   "execution_count": 3,
   "id": "0ca16959-af15-4e2e-99f8-d61aae0954cf",
   "metadata": {},
   "outputs": [
    {
     "name": "stdin",
     "output_type": "stream",
     "text": [
      "enter a number e 67\n",
      "enter a number f 78\n"
     ]
    },
    {
     "name": "stdout",
     "output_type": "stream",
     "text": [
      "78 is greater than 67\n"
     ]
    }
   ],
   "source": [
    "#3) Compare two numbers and print the results.\n",
    "e=int(input(\"enter a number e\"))\n",
    "f=int(input(\"enter a number f\"))\n",
    "if e>f:\n",
    "  print(f\"{e} is greater than {f}\")\n",
    "elif f>e: \n",
    "  print(f\"{f} is greater than {e}\")\n",
    "else : \n",
    "  print(\"they are equal\")"
   ]
  },
  {
   "cell_type": "code",
   "execution_count": 4,
   "id": "1377047e-bc3c-452b-936c-627989b8b30d",
   "metadata": {},
   "outputs": [
    {
     "name": "stdin",
     "output_type": "stream",
     "text": [
      "enter a number x 5\n",
      "enter a number y 7\n",
      "enter a number z 10\n"
     ]
    },
    {
     "name": "stdout",
     "output_type": "stream",
     "text": [
      "5 is less than 7, and 7 is less than 10\n",
      "5 is equal to 5, or 10 is equal to 15\n",
      "5 is not greater than 10\n"
     ]
    }
   ],
   "source": [
    "#4) Check conditions using logical operators.\n",
    "x=int(input(\"enter a number x\"))\n",
    "y=int(input(\"enter a number y\"))\n",
    "z=int(input(\"enter a number z\"))\n",
    "if x < y and y < z:\n",
    "    print(f\"{x} is less than {y}, and {y} is less than {z}\")\n",
    "\n",
    "if x == 5 or z == 15:\n",
    "    print(f\"{x} is equal to 5, or {z} is equal to 15\")\n",
    "\n",
    "if not x > z:\n",
    "    print(f\"{x} is not greater than {z}\")"
   ]
  },
  {
   "cell_type": "code",
   "execution_count": 6,
   "id": "ea2aaae3-f2ba-48f1-9646-3d299e040d87",
   "metadata": {},
   "outputs": [
    {
     "name": "stdin",
     "output_type": "stream",
     "text": [
      "enter a number i 6\n",
      "enter a number j 10\n"
     ]
    },
    {
     "name": "stdout",
     "output_type": "stream",
     "text": [
      "i is j False\n",
      "i not is j True\n"
     ]
    }
   ],
   "source": [
    "#5)Check the identity of variables.\n",
    "i=int(input(\"enter a number i\"))\n",
    "j=int(input(\"enter a number j\"))\n",
    "print(\"i is j\" ,i is j)\n",
    "print(\"i not is j\" ,i is not j)"
   ]
  },
  {
   "cell_type": "code",
   "execution_count": 7,
   "id": "d98df49d-a7f3-451d-9ac7-31af03c8ffcf",
   "metadata": {},
   "outputs": [
    {
     "name": "stdin",
     "output_type": "stream",
     "text": [
      "enter a number x 5\n",
      "enter a number y 3\n"
     ]
    },
    {
     "name": "stdout",
     "output_type": "stream",
     "text": [
      "x & y 1\n",
      "x | y 7\n",
      " ~y -4\n"
     ]
    }
   ],
   "source": [
    "#6)Perform bitwise operations on any two integers.\n",
    "x=int(input(\"enter a number x\"))\n",
    "y=int(input(\"enter a number y\"))\n",
    "print(\"x & y\" , x&y)\n",
    "print(\"x | y\" , x|y)\n",
    "print(\" ~y\" , ~y)"
   ]
  },
  {
   "cell_type": "code",
   "execution_count": 8,
   "id": "97a5d276-7ad8-4996-83fa-e36f69603071",
   "metadata": {},
   "outputs": [
    {
     "name": "stdin",
     "output_type": "stream",
     "text": [
      "enter a number s 6\n"
     ]
    },
    {
     "name": "stdout",
     "output_type": "stream",
     "text": [
      "changed sign  -6\n"
     ]
    }
   ],
   "source": [
    "#7) Use unary operators to change the sign of a number.\n",
    "s=int(input(\"enter a number s\"))\n",
    "h=-s\n",
    "print(\"changed sign \" ,h) "
   ]
  },
  {
   "cell_type": "code",
   "execution_count": 9,
   "id": "bfc381d3-a029-47d5-920c-a6c1cbec85d8",
   "metadata": {},
   "outputs": [
    {
     "name": "stdin",
     "output_type": "stream",
     "text": [
      "enter a number a 7\n"
     ]
    },
    {
     "name": "stdout",
     "output_type": "stream",
     "text": [
      "Less than or equal to 10\n"
     ]
    }
   ],
   "source": [
    "#8) Use the ternary operator to assign values based on conditions.\n",
    "a=int(input(\"enter a number a\")) \n",
    "result = \"Greater than 10\" if a> 10 else \"Less than or equal to 10\"\n",
    "print(result)"
   ]
  },
  {
   "cell_type": "code",
   "execution_count": null,
   "id": "49ae9e3d-496a-4c34-8285-415eb977bde7",
   "metadata": {},
   "outputs": [],
   "source": []
  }
 ],
 "metadata": {
  "kernelspec": {
   "display_name": "Python 3 (ipykernel)",
   "language": "python",
   "name": "python3"
  },
  "language_info": {
   "codemirror_mode": {
    "name": "ipython",
    "version": 3
   },
   "file_extension": ".py",
   "mimetype": "text/x-python",
   "name": "python",
   "nbconvert_exporter": "python",
   "pygments_lexer": "ipython3",
   "version": "3.10.8"
  }
 },
 "nbformat": 4,
 "nbformat_minor": 5
}
