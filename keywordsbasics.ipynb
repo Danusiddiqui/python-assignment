{
 "cells": [
  {
   "cell_type": "code",
   "execution_count": null,
   "id": "16e3c450-b3f3-4888-9b06-a48573db01ab",
   "metadata": {},
   "outputs": [],
   "source": [
    "#1) Explain the significance of Python keywords and provide examples of five keywords.\n",
    "\"\"\"Keywords in Python are reserved words that have special meanings and cannot\n",
    " be used as identifiers (variable names, function names, etc.) because they are part \n",
    " of the language syntax. These keywords are crucial for defining the structure and logic \n",
    " of Python programs.we can use <help('keywords')> to see all the keywors in python.\n",
    " example of 5 keywors are:\n",
    " 1) int \n",
    "  The int keyword is used to convert a value to an integer.\n",
    "        a=\"42\"\n",
    "        b=int(a)\n",
    " 2)print\n",
    "   The print keyword is used to display output in the console.\n",
    "        print(\"hello world\")\n",
    " 3)input:\n",
    "   The input keyword is used to take user input. It returns the input as a string.\n",
    "       a=input(\"enter your name\")\n",
    " 4)if, else:\n",
    "        The if statement checks a condition. If it's true, it executes a block of code. \n",
    "        Otherwise, the else block is executed.   \n",
    "            x = 5\n",
    "            if x > 0:\n",
    "               print(\"Positive number\")\n",
    "            else:\n",
    "                print(\"Non-positive number\")\n",
    " 5)len:\n",
    "     The len keyword is used to get the length of a sequence, such as a string, list, or tuple.\n",
    "     python\n",
    "            message = \"Hello, World!\"\n",
    "            length = len(message)\"\"\""
   ]
  },
  {
   "cell_type": "code",
   "execution_count": null,
   "id": "f70961fe-4cd6-4f5f-b246-7870cec6aadb",
   "metadata": {},
   "outputs": [],
   "source": [
    "#2) Describe the rules for defining identifiers in Python and provide an example \n",
    "\"\"\"Rules for Identifiers in Python:\n",
    "     1)Valid characters include letters (upper and lower), digits, and underscore.\n",
    "     2)Case-sensitive: myVar and myvar are different.\n",
    "     3)Avoid using Python keywords or reserved words.\n",
    "     4)Start with a letter or underscore, not a digit.\n",
    "      Example:\n",
    "           variable_name = 42\n",
    "           _myVar = \"Hello\"       are valid identifiers.\"\"\""
   ]
  }
 ],
 "metadata": {
  "kernelspec": {
   "display_name": "Python 3 (ipykernel)",
   "language": "python",
   "name": "python3"
  },
  "language_info": {
   "codemirror_mode": {
    "name": "ipython",
    "version": 3
   },
   "file_extension": ".py",
   "mimetype": "text/x-python",
   "name": "python",
   "nbconvert_exporter": "python",
   "pygments_lexer": "ipython3",
   "version": "3.10.8"
  }
 },
 "nbformat": 4,
 "nbformat_minor": 5
}
